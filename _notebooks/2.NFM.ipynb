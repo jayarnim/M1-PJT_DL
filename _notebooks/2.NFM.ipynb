{
 "cells": [
  {
   "cell_type": "markdown",
   "id": "9197b4ce",
   "metadata": {},
   "source": [
    "# Constants"
   ]
  },
  {
   "cell_type": "code",
   "execution_count": 1,
   "id": "766998b9",
   "metadata": {},
   "outputs": [],
   "source": [
    "MODEL_NAME = \"NFM\""
   ]
  },
  {
   "cell_type": "code",
   "execution_count": 2,
   "id": "6000fa28",
   "metadata": {},
   "outputs": [],
   "source": [
    "WORK_DIR_PATH = \"..\""
   ]
  },
  {
   "cell_type": "code",
   "execution_count": 3,
   "id": "50f22fda",
   "metadata": {},
   "outputs": [],
   "source": [
    "# dataloader\n",
    "TRN_VAL_TST_RATIO = dict(trn=0.6, val=0.2, tst=0.2)\n",
    "BATCH_SIZE = dict(trn=128, val=128, tst=128)\n",
    "SHUFFLE = True"
   ]
  },
  {
   "cell_type": "code",
   "execution_count": 4,
   "id": "d84e9edd",
   "metadata": {},
   "outputs": [],
   "source": [
    "# model\n",
    "EMBED_DIM = 64\n",
    "HIDDEN = [EMBED_DIM, EMBED_DIM, EMBED_DIM//2, EMBED_DIM//4]\n",
    "DROPOUT = 0.5"
   ]
  },
  {
   "cell_type": "code",
   "execution_count": 5,
   "id": "d12b5254",
   "metadata": {},
   "outputs": [],
   "source": [
    "# trainer\n",
    "LR = 1e-3\n",
    "WEIGHT_DECAY = 1e-3"
   ]
  },
  {
   "cell_type": "code",
   "execution_count": 6,
   "id": "25761aea",
   "metadata": {},
   "outputs": [],
   "source": [
    "# fit\n",
    "N_EPOCHS = 10"
   ]
  },
  {
   "cell_type": "markdown",
   "id": "0fdd6e3a",
   "metadata": {},
   "source": [
    "# Packages"
   ]
  },
  {
   "cell_type": "code",
   "execution_count": 7,
   "id": "1a0ca3fa",
   "metadata": {},
   "outputs": [],
   "source": [
    "import warnings\n",
    "warnings.filterwarnings(\"ignore\")"
   ]
  },
  {
   "cell_type": "code",
   "execution_count": 8,
   "id": "9d34b37c",
   "metadata": {},
   "outputs": [
    {
     "name": "stdout",
     "output_type": "stream",
     "text": [
      "DIRECTORY: c:\\Users\\jayar\\Desktop\\바탕 화면\\REPO\\PROJECT\\M1-PJT_DL\n"
     ]
    }
   ],
   "source": [
    "import os\n",
    "os.environ[\"CUDA_LAUNCH_BLOCKING\"] = \"1\"\n",
    "os.chdir(WORK_DIR_PATH)\n",
    "print(f\"DIRECTORY: {os.getcwd()}\")"
   ]
  },
  {
   "cell_type": "code",
   "execution_count": 9,
   "id": "198e1b4b",
   "metadata": {},
   "outputs": [],
   "source": [
    "import pandas as pd\n",
    "from CTR import ctr\n",
    "from EXPERIMENT import PIPELINE, TRAINER, EVALUATOR, UTILS"
   ]
  },
  {
   "cell_type": "code",
   "execution_count": 10,
   "id": "59840708",
   "metadata": {},
   "outputs": [],
   "source": [
    "from EXPERIMENT.UTILS.constants import (\n",
    "    DEFAULT_USER_COL,\n",
    "    DEFAULT_ITEM_COL,\n",
    "    DEFAULT_RATING_COL,\n",
    "    SEED,\n",
    ")"
   ]
  },
  {
   "cell_type": "code",
   "execution_count": 11,
   "id": "dac05fe2",
   "metadata": {},
   "outputs": [
    {
     "name": "stdout",
     "output_type": "stream",
     "text": [
      "SETTING ALL SEEDS TO 42...\n",
      "ALL SEEDS SET\n"
     ]
    }
   ],
   "source": [
    "UTILS.seed.reset(SEED)"
   ]
  },
  {
   "cell_type": "markdown",
   "id": "7a7e084b",
   "metadata": {},
   "source": [
    "# Data"
   ]
  },
  {
   "cell_type": "code",
   "execution_count": 12,
   "id": "f1ecfcaa",
   "metadata": {},
   "outputs": [],
   "source": [
    "origin = pd.read_csv(\"./_data/movielens.csv\")"
   ]
  },
  {
   "cell_type": "code",
   "execution_count": 13,
   "id": "7c2e4141",
   "metadata": {},
   "outputs": [
    {
     "data": {
      "text/plain": [
       "Index(['userId', 'itemId', 'rating', 'year', 'month', 'day', 'weekday',\n",
       "       'launch', 'genres_Action', 'genres_Adventure', 'genres_Animation',\n",
       "       'genres_Children', 'genres_Comedy', 'genres_Crime',\n",
       "       'genres_Documentary', 'genres_Drama', 'genres_Fantasy',\n",
       "       'genres_Film-Noir', 'genres_Horror', 'genres_IMAX', 'genres_Musical',\n",
       "       'genres_Mystery', 'genres_Romance', 'genres_Sci-Fi', 'genres_Thriller',\n",
       "       'genres_War', 'genres_Western'],\n",
       "      dtype='object')"
      ]
     },
     "execution_count": 13,
     "metadata": {},
     "output_type": "execute_result"
    }
   ],
   "source": [
    "origin.columns"
   ]
  },
  {
   "cell_type": "code",
   "execution_count": 14,
   "id": "6a8b136c",
   "metadata": {},
   "outputs": [],
   "source": [
    "num = None\n",
    "oht = ['userId', 'itemId', 'year', 'month', 'day', 'weekday', 'launch']\n",
    "mht = [\"genres\"]\n",
    "\n",
    "FIELD_TYPE = dict(\n",
    "    num=num,\n",
    "    oht=oht,\n",
    "    mht=mht,\n",
    ")\n",
    "\n",
    "N_FIELDS = len(oht) + len(mht)"
   ]
  },
  {
   "cell_type": "code",
   "execution_count": 15,
   "id": "b22f180f",
   "metadata": {},
   "outputs": [],
   "source": [
    "kwargs = dict(\n",
    "    origin=origin,\n",
    "    col_y=DEFAULT_RATING_COL,\n",
    "    col_user=DEFAULT_USER_COL,\n",
    "    col_item=DEFAULT_ITEM_COL,\n",
    "    seed=SEED,\n",
    ")\n",
    "\n",
    "builder = PIPELINE.builder.Builder(**kwargs)"
   ]
  },
  {
   "cell_type": "code",
   "execution_count": 16,
   "id": "1d221d65",
   "metadata": {},
   "outputs": [],
   "source": [
    "kwargs = dict(\n",
    "    trn_val_tst_ratio=TRN_VAL_TST_RATIO,\n",
    "    batch_size=BATCH_SIZE,\n",
    "    shuffle=SHUFFLE,\n",
    ")\n",
    "\n",
    "loaders, FIELD_DIM = builder(**kwargs)"
   ]
  },
  {
   "cell_type": "markdown",
   "id": "4fa228ee",
   "metadata": {},
   "source": [
    "# Modeling"
   ]
  },
  {
   "cell_type": "code",
   "execution_count": 17,
   "id": "456cc478",
   "metadata": {},
   "outputs": [],
   "source": [
    "kwargs = dict(\n",
    "    embed_dim=EMBED_DIM,\n",
    "    hidden=[unit*N_FIELDS for unit in HIDDEN],\n",
    "    dropout=DROPOUT,\n",
    "    field_dim=FIELD_DIM,\n",
    "    field_type=FIELD_TYPE,\n",
    ")\n",
    "\n",
    "model = ctr.nfm.NeuralFactorizationMachine(**kwargs)"
   ]
  },
  {
   "cell_type": "code",
   "execution_count": 18,
   "id": "e17184c5",
   "metadata": {},
   "outputs": [],
   "source": [
    "kwargs = dict(\n",
    "    model=model,\n",
    "    lr=LR,\n",
    "    weight_decay=WEIGHT_DECAY,\n",
    ")\n",
    "\n",
    "trainer = TRAINER.trainer.CustomizedTrainer(**kwargs)"
   ]
  },
  {
   "cell_type": "code",
   "execution_count": 19,
   "id": "1f1026db",
   "metadata": {},
   "outputs": [],
   "source": [
    "kwargs = dict(\n",
    "    model=model,\n",
    "    trainer=trainer,\n",
    ")\n",
    "\n",
    "runner = TRAINER.runner.Runner(**kwargs)"
   ]
  },
  {
   "cell_type": "markdown",
   "id": "accd9157",
   "metadata": {},
   "source": [
    "# Training"
   ]
  },
  {
   "cell_type": "code",
   "execution_count": 20,
   "id": "0683fefe",
   "metadata": {},
   "outputs": [
    {
     "name": "stdout",
     "output_type": "stream",
     "text": [
      "TRN IS FINISHED!\n"
     ]
    }
   ],
   "source": [
    "kwargs = dict(\n",
    "    trn_loader=loaders[\"trn\"],\n",
    "    val_loader=loaders[\"val\"],\n",
    "    n_epochs=N_EPOCHS,\n",
    ")\n",
    "\n",
    "history = runner.fit(**kwargs)"
   ]
  },
  {
   "cell_type": "code",
   "execution_count": 21,
   "id": "ea5c76c7",
   "metadata": {},
   "outputs": [
    {
     "data": {
      "image/png": "[encoded data removed]",
      "text/plain": [
       "<Figure size 800x500 with 1 Axes>"
      ]
     },
     "metadata": {},
     "output_type": "display_data"
    }
   ],
   "source": [
    "kwargs = dict(\n",
    "    history=history,\n",
    "    title=\"LOSS (TRN vs VAL)\",\n",
    "    metric=\"MSE\",\n",
    ")\n",
    "\n",
    "UTILS.visualizer.versus_plot(**kwargs)"
   ]
  },
  {
   "cell_type": "markdown",
   "id": "1034735a",
   "metadata": {},
   "source": [
    "# Evaluating"
   ]
  },
  {
   "cell_type": "code",
   "execution_count": 22,
   "id": "f3db6899",
   "metadata": {},
   "outputs": [],
   "source": [
    "kwargs = dict(\n",
    "    model=model,\n",
    ")\n",
    "\n",
    "evaluator = EVALUATOR.evaluator.PerformanceEvaluator(**kwargs)"
   ]
  },
  {
   "cell_type": "code",
   "execution_count": 23,
   "id": "c6948e21",
   "metadata": {},
   "outputs": [
    {
     "name": "stdout",
     "output_type": "stream",
     "text": [
      "MSE:\t\t0.7616\n",
      "RMSE(norm):\t0.2497\n",
      "MAE:\t\t0.6681\n",
      "MAPE:\t\t0.2970\n",
      "R2:\t\t0.3044\n"
     ]
    }
   ],
   "source": [
    "evaluator.evaluate(loaders[\"tst\"])"
   ]
  },
  {
   "cell_type": "markdown",
   "id": "a9c4e3a2",
   "metadata": {},
   "source": [
    "# Save"
   ]
  },
  {
   "cell_type": "code",
   "execution_count": 24,
   "id": "8ce30aa7",
   "metadata": {},
   "outputs": [],
   "source": [
    "PATH = f'./_checkpoints/{MODEL_NAME}.pth'\n",
    "\n",
    "kwargs = dict(\n",
    "    model=model,\n",
    "    path=PATH,\n",
    ")\n",
    "\n",
    "UTILS.checkpointer.save(**kwargs)"
   ]
  }
 ],
 "metadata": {
  "kernelspec": {
   "display_name": "Python 3",
   "language": "python",
   "name": "python3"
  },
  "language_info": {
   "codemirror_mode": {
    "name": "ipython",
    "version": 3
   },
   "file_extension": ".py",
   "mimetype": "text/x-python",
   "name": "python",
   "nbconvert_exporter": "python",
   "pygments_lexer": "ipython3",
   "version": "3.11.5"
  }
 },
 "nbformat": 4,
 "nbformat_minor": 5
}
